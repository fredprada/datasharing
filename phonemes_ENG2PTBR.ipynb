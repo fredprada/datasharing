{
  "nbformat": 4,
  "nbformat_minor": 0,
  "metadata": {
    "colab": {
      "name": "phonemes_ENG2PTBR.ipynb",
      "provenance": [],
      "collapsed_sections": [],
      "authorship_tag": "ABX9TyNCAcsTc7jSKXeQgZoK9rPP",
      "include_colab_link": true
    },
    "kernelspec": {
      "name": "python3",
      "display_name": "Python 3"
    }
  },
  "cells": [
    {
      "cell_type": "markdown",
      "metadata": {
        "id": "view-in-github",
        "colab_type": "text"
      },
      "source": [
        "<a href=\"https://colab.research.google.com/github/fredprada/datasharing/blob/master/phonemes_ENG2PTBR.ipynb\" target=\"_parent\"><img src=\"https://colab.research.google.com/assets/colab-badge.svg\" alt=\"Open In Colab\"/></a>"
      ]
    },
    {
      "cell_type": "code",
      "metadata": {
        "colab": {
          "base_uri": "https://localhost:8080/"
        },
        "id": "EHfLYauSfGbY",
        "outputId": "3565b7cd-4219-4659-f7f2-3c3e1f0552b4"
      },
      "source": [
        "drive.mount(\"/content/drive\")"
      ],
      "execution_count": 4,
      "outputs": [
        {
          "output_type": "stream",
          "text": [
            "Mounted at /content/drive\n"
          ],
          "name": "stdout"
        }
      ]
    },
    {
      "cell_type": "markdown",
      "metadata": {
        "id": "lW-Fj83xfNwO"
      },
      "source": [
        "#My drive mount code is:\r\n",
        "4/1AY0e-g43fhtCCQD6qHcqXrTGUEOUQ5xjEQ8pRO7XR8qq-glZPMUyCe9Y-8o\r\n",
        "\r\n",
        "4/1AY0e-g7NGNBE1kYTE6Xte_F722VNYtoMUFNEOfQapHCBaYq0CW-cSZ9nBc4"
      ]
    },
    {
      "cell_type": "code",
      "metadata": {
        "id": "zf8ba5A3e9v4"
      },
      "source": [
        "#importa o drive do google\r\n",
        "from google.colab import drive\r\n",
        "\r\n",
        "#abre o txt que preciso como read\r\n",
        "dictfile=\"/content/drive/MyDrive/Pronunciation_program/CMU_Dict_pronunciation.txt\"\r\n",
        "pronun_dict=open(dictfile,'r',encoding='iso8859-1')\r\n",
        "\r\n",
        "#solicita o texto que precisa procurar\r\n",
        "word=input(\"Enter the word to search: \").upper()\r\n",
        "pronunciation=\"\"\r\n",
        "count=1\r\n",
        "\r\n",
        "#lê todas as linhas do txt\r\n",
        "pronuncias=pronun_dict.readlines()\r\n",
        "\r\n",
        "#Loop que busca a variável word dentro do arquivo de texto\r\n",
        "#temos que deixar o L2 porque senão ele vai procurar a palavra em todas as linhas, e te retornar resultados que contém sua palavra, não ela em específico\r\n",
        "for linhas in pronuncias:\r\n",
        "  L2=linhas.split()\r\n",
        "  if word in L2:\r\n",
        "    print(linhas)"
      ],
      "execution_count": null,
      "outputs": []
    }
  ]
}