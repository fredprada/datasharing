{
  "nbformat": 4,
  "nbformat_minor": 0,
  "metadata": {
    "colab": {
      "name": "phonemes_ENG2PTBR_excel_file.ipynb",
      "provenance": [],
      "collapsed_sections": [],
      "authorship_tag": "ABX9TyPtiWs8ZJG0ivwBmoBWY6cE",
      "include_colab_link": true
    },
    "kernelspec": {
      "name": "python3",
      "display_name": "Python 3"
    }
  },
  "cells": [
    {
      "cell_type": "markdown",
      "metadata": {
        "id": "view-in-github",
        "colab_type": "text"
      },
      "source": [
        "<a href=\"https://colab.research.google.com/github/fredprada/datasharing/blob/master/phonemes_ENG2PTBR_excel_file.ipynb\" target=\"_parent\"><img src=\"https://colab.research.google.com/assets/colab-badge.svg\" alt=\"Open In Colab\"/></a>"
      ]
    },
    {
      "cell_type": "code",
      "metadata": {
        "colab": {
          "base_uri": "https://localhost:8080/"
        },
        "id": "EHfLYauSfGbY",
        "outputId": "9f71df79-a658-44c4-ab75-67a908efacb0"
      },
      "source": [
        "drive.mount(\"/content/drive\")"
      ],
      "execution_count": 5,
      "outputs": [
        {
          "output_type": "stream",
          "text": [
            "Mounted at /content/drive\n"
          ],
          "name": "stdout"
        }
      ]
    },
    {
      "cell_type": "markdown",
      "metadata": {
        "id": "a07E0s5W28N-"
      },
      "source": [
        "# código separado por linhas"
      ]
    },
    {
      "cell_type": "code",
      "metadata": {
        "id": "2IqDZVgs02_V"
      },
      "source": [
        "from pandas import read_excel"
      ],
      "execution_count": 1,
      "outputs": []
    },
    {
      "cell_type": "code",
      "metadata": {
        "id": "gm9q63ka3G9X"
      },
      "source": [
        "#importa o drive do google\r\n",
        "from google.colab import drive"
      ],
      "execution_count": 2,
      "outputs": []
    },
    {
      "cell_type": "code",
      "metadata": {
        "id": "1x-X1q_33IgZ"
      },
      "source": [
        "#abre o txt que preciso como read\r\n",
        "dictfile=\"/content/drive/MyDrive/Pronunciation_program/CMU_Dict_pronunciation.xlsx\""
      ],
      "execution_count": 3,
      "outputs": []
    },
    {
      "cell_type": "code",
      "metadata": {
        "id": "jHPYAfhg3KwW"
      },
      "source": [
        "pronun_dict=open(dictfile,'r',encoding='iso8859-1')"
      ],
      "execution_count": 6,
      "outputs": []
    },
    {
      "cell_type": "code",
      "metadata": {
        "id": "S6aXBWNv3Luo"
      },
      "source": [
        "# change it to your sheet name, you can find your sheet name at the bottom left of your excel file\r\n",
        "my_sheet = 'CMU_Dict_pronunciation' "
      ],
      "execution_count": 7,
      "outputs": []
    },
    {
      "cell_type": "code",
      "metadata": {
        "id": "ux9vtX9W3Pw5"
      },
      "source": [
        "# change it to the name of your excel file\r\n",
        "file_name = 'CMU_Dict_pronunciation.xlsx' "
      ],
      "execution_count": 8,
      "outputs": []
    },
    {
      "cell_type": "code",
      "metadata": {
        "id": "pXnLg4k33Smp"
      },
      "source": [
        "df = read_excel(dictfile, sheet_name = my_sheet)"
      ],
      "execution_count": 9,
      "outputs": []
    },
    {
      "cell_type": "code",
      "metadata": {
        "id": "hoGIYAsI3Ttw"
      },
      "source": [
        "#seleciono quais colunas quero que mostre no resultado\r\n",
        "pronuncias=['word','arpabet','simplified_phonemes']"
      ],
      "execution_count": 10,
      "outputs": []
    },
    {
      "cell_type": "code",
      "metadata": {
        "id": "J7ANWkiv3VGt"
      },
      "source": [
        "#indico que o dataframe agora é só com essas colunas\r\n",
        "df=df[pronuncias]"
      ],
      "execution_count": 11,
      "outputs": []
    },
    {
      "cell_type": "code",
      "metadata": {
        "id": "--5QGF3q3WRG"
      },
      "source": [
        "# rename a column title\r\n",
        "df.rename(columns={'simplified_phonemes':'simplified pronunciation'},inplace=True)"
      ],
      "execution_count": 12,
      "outputs": []
    },
    {
      "cell_type": "code",
      "metadata": {
        "colab": {
          "base_uri": "https://localhost:8080/"
        },
        "id": "LmwFUY6F3Xup",
        "outputId": "aca90deb-1ddc-4cfc-b9a6-5133403abc6a"
      },
      "source": [
        "#request an input to search the word on the data base\r\n",
        "pronunciation_required=input(\"Enter the word to search: \").upper()"
      ],
      "execution_count": 24,
      "outputs": [
        {
          "output_type": "stream",
          "text": [
            "Enter the word to search: knot\n"
          ],
          "name": "stdout"
        }
      ]
    },
    {
      "cell_type": "code",
      "metadata": {
        "id": "ricuALJt3ZNF"
      },
      "source": [
        "result=df[df['word'].isin([pronunciation_required])].style.hide_index()"
      ],
      "execution_count": 25,
      "outputs": []
    },
    {
      "cell_type": "code",
      "metadata": {
        "colab": {
          "base_uri": "https://localhost:8080/",
          "height": 58
        },
        "id": "cYEsZ_EG3ab0",
        "outputId": "32a80e9d-c348-490d-ec2f-737780bae385"
      },
      "source": [
        "result"
      ],
      "execution_count": 26,
      "outputs": [
        {
          "output_type": "execute_result",
          "data": {
            "text/html": [
              "<style  type=\"text/css\" >\n",
              "</style><table id=\"T_7e3d1386_7f7f_11eb_8473_0242ac1c0002\" ><thead>    <tr>        <th class=\"col_heading level0 col0\" >word</th>        <th class=\"col_heading level0 col1\" >arpabet</th>        <th class=\"col_heading level0 col2\" >simplified pronunciation</th>    </tr></thead><tbody>\n",
              "                <tr>\n",
              "                                <td id=\"T_7e3d1386_7f7f_11eb_8473_0242ac1c0002row0_col0\" class=\"data row0 col0\" >KNOT</td>\n",
              "                        <td id=\"T_7e3d1386_7f7f_11eb_8473_0242ac1c0002row0_col1\" class=\"data row0 col1\" >N AA1 T                             </td>\n",
              "                        <td id=\"T_7e3d1386_7f7f_11eb_8473_0242ac1c0002row0_col2\" class=\"data row0 col2\" >N Á /T                             </td>\n",
              "            </tr>\n",
              "    </tbody></table>"
            ],
            "text/plain": [
              "<pandas.io.formats.style.Styler at 0x7f7041a60f10>"
            ]
          },
          "metadata": {
            "tags": []
          },
          "execution_count": 26
        }
      ]
    }
  ]
}